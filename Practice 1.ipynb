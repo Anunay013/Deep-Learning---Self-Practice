{
 "cells": [
  {
   "cell_type": "code",
   "execution_count": null,
   "metadata": {
    "scrolled": false
   },
   "outputs": [],
   "source": [
    "from __future__ import print_function\n",
    "import tensorflow as tf\n",
    "import keras\n",
    "from keras.models import Sequential\n",
    "from keras.layers import Dense, Dropout, Activation\n",
    "import numpy as np\n",
    "import pandas as pd\n",
    "from matplotlib import pyplot as plt\n",
    "from tensorflow.python.client import device_lib\n",
    "from keras.callbacks import EarlyStopping\n",
    "print(device_lib.list_local_devices())\n",
    "%matplotlib inline"
   ]
  },
  {
   "cell_type": "code",
   "execution_count": null,
   "metadata": {
    "collapsed": true
   },
   "outputs": [],
   "source": [
    "## Loading dataset\n",
    "from keras.datasets import mnist\n",
    "(x_train, y_train), (x_test, y_test) = mnist.load_data()"
   ]
  },
  {
   "cell_type": "code",
   "execution_count": null,
   "metadata": {
    "collapsed": true
   },
   "outputs": [],
   "source": [
    "## Reshaping datasets\n",
    "num_pixels = x_train.shape[1]*x_train.shape[2]\n",
    "x_train = x_train.reshape(x_train.shape[0], num_pixels)/255\n",
    "x_test = x_test.reshape(x_test.shape[0], num_pixels)/255\n",
    "\n",
    "# Convert labels to categorical one-hot encoding\n",
    "y_train = keras.utils.to_categorical(y_train, num_classes=10)\n",
    "y_test = keras.utils.to_categorical(y_test, num_classes=10)"
   ]
  },
  {
   "cell_type": "code",
   "execution_count": null,
   "metadata": {
    "collapsed": true
   },
   "outputs": [],
   "source": [
    "## Defining Architechture\n",
    "model = Sequential()\n",
    "### 1st Layer\n",
    "model.add(Dense(256, input_dim=784))\n",
    "model.add(Activation('relu'))\n",
    "model.add(keras.layers.BatchNormalization())\n",
    "model.add(Dropout(0.3))\n",
    "\n",
    "model.add(Dense(128,))\n",
    "model.add(Activation('relu'))\n",
    "model.add(keras.layers.BatchNormalization())\n",
    "model.add(Dropout(0.3))\n",
    "\n",
    "### 2nd Layer\n",
    "model.add(Dense(10))\n",
    "model.add(Activation('softmax'))\n",
    "\n",
    "# model = Sequential([Dense(50, input_shape=(28,28)),Activation('relu'), Dense(10),Activation('softmax'),])"
   ]
  },
  {
   "cell_type": "code",
   "execution_count": 5,
   "metadata": {},
   "outputs": [],
   "source": [
    "## Compiling model\n",
    "model.compile(optimizer=\"adam\",\n",
    "              loss='categorical_crossentropy',\n",
    "              metrics=['accuracy'],)\n",
    "model.summary()"
   ]
  },
  {
   "cell_type": "code",
   "execution_count": 6,
   "metadata": {
    "scrolled": true
   },
   "outputs": [
    {
     "name": "stdout",
     "output_type": "stream",
     "text": [
      "Train on 57000 samples, validate on 3000 samples\n",
      "Epoch 1/10\n",
      "57000/57000 [==============================] - 12s 210us/step - loss: 0.3429 - accuracy: 0.8956 - val_loss: 0.1064 - val_accuracy: 0.9703\n",
      "Epoch 2/10\n",
      "57000/57000 [==============================] - 11s 190us/step - loss: 0.1972 - accuracy: 0.9401 - val_loss: 0.0781 - val_accuracy: 0.9767\n",
      "Epoch 3/10\n",
      "57000/57000 [==============================] - 11s 190us/step - loss: 0.1624 - accuracy: 0.9493 - val_loss: 0.0717 - val_accuracy: 0.9813\n",
      "Epoch 4/10\n",
      "57000/57000 [==============================] - 11s 194us/step - loss: 0.1424 - accuracy: 0.9574 - val_loss: 0.0693 - val_accuracy: 0.9817\n",
      "Epoch 5/10\n",
      "57000/57000 [==============================] - 11s 198us/step - loss: 0.1286 - accuracy: 0.9600 - val_loss: 0.0676 - val_accuracy: 0.9803\n",
      "Epoch 6/10\n",
      "57000/57000 [==============================] - 12s 210us/step - loss: 0.1180 - accuracy: 0.9634 - val_loss: 0.0587 - val_accuracy: 0.9853\n",
      "Epoch 7/10\n",
      "57000/57000 [==============================] - 11s 197us/step - loss: 0.1075 - accuracy: 0.9670 - val_loss: 0.0621 - val_accuracy: 0.9837\n",
      "Epoch 8/10\n",
      "57000/57000 [==============================] - 12s 203us/step - loss: 0.1010 - accuracy: 0.9683 - val_loss: 0.0656 - val_accuracy: 0.9820\n",
      "Epoch 9/10\n",
      "57000/57000 [==============================] - 11s 199us/step - loss: 0.0951 - accuracy: 0.9704 - val_loss: 0.0667 - val_accuracy: 0.9807\n",
      "Epoch 10/10\n",
      "57000/57000 [==============================] - 12s 214us/step - loss: 0.0916 - accuracy: 0.9710 - val_loss: 0.0587 - val_accuracy: 0.9837\n"
     ]
    }
   ],
   "source": [
    "## Training the model\n",
    "training_log = model.fit(x=x_train, y=y_train, validation_split=0.05, batch_size=30, epochs=10,)"
   ]
  },
  {
   "cell_type": "code",
   "execution_count": 7,
   "metadata": {},
   "outputs": [
    {
     "data": {
      "image/png": "[encoded data removed]",
      "text/plain": [
       "<Figure size 1080x576 with 1 Axes>"
      ]
     },
     "metadata": {},
     "output_type": "display_data"
    }
   ],
   "source": [
    "plt.figure(figsize=(15,8))\n",
    "plt.plot(training_log.history['accuracy'])\n",
    "plt.plot(training_log.history['val_accuracy'])\n",
    "plt.title('Model Accuracy')\n",
    "plt.ylabel('Accuracy')\n",
    "plt.xlabel('Epoch')\n",
    "plt.legend(['Train', 'Validation'], loc='upper left')\n",
    "plt.show()"
   ]
  },
  {
   "cell_type": "code",
   "execution_count": 8,
   "metadata": {},
   "outputs": [
    {
     "data": {
      "text/plain": [
       "array([7, 2, 1, 0, 4, 1, 4, 9, 5, 9], dtype=int64)"
      ]
     },
     "execution_count": 8,
     "metadata": {},
     "output_type": "execute_result"
    }
   ],
   "source": [
    "model.predict_classes(x_test)[:10]"
   ]
  },
  {
   "cell_type": "markdown",
   "metadata": {},
   "source": [
    "## Boston Dataset"
   ]
  },
  {
   "cell_type": "code",
   "execution_count": 9,
   "metadata": {
    "collapsed": true
   },
   "outputs": [],
   "source": [
    "from sklearn.preprocessing import StandardScaler\n",
    "from keras.datasets import boston_housing\n",
    "(x_train, y_train), (x_test, y_test) = boston_housing.load_data()"
   ]
  },
  {
   "cell_type": "code",
   "execution_count": 10,
   "metadata": {
    "collapsed": true
   },
   "outputs": [],
   "source": [
    "col_name = ['CRIM', 'ZN', 'INDUS', 'CHAS', 'NOX', 'RM', 'AGE', 'DIS', 'RAD', 'TAX', 'PTRATIO', 'B', 'LSTAT']\n",
    "x_train_df = pd.DataFrame(x_train, columns=col_name)\n",
    "x_test_df = pd.DataFrame(x_test, columns=col_name)"
   ]
  },
  {
   "cell_type": "code",
   "execution_count": 11,
   "metadata": {
    "collapsed": true
   },
   "outputs": [],
   "source": [
    "scaler = StandardScaler()\n",
    "scaler.fit(x_train_df)\n",
    "\n",
    "## Applying scaling on Train and Test\n",
    "x_train_scaled = scaler.transform(x_train_df)\n",
    "x_test_scaled= scaler.transform(x_test_df)"
   ]
  },
  {
   "cell_type": "code",
   "execution_count": 12,
   "metadata": {
    "collapsed": true
   },
   "outputs": [],
   "source": [
    "## Defining Layers\n",
    "model = Sequential()\n",
    "\n",
    "### 1st Layer\n",
    "model.add(Dense(64, input_dim=13))\n",
    "model.add(Activation('relu'))\n",
    "# model.add(keras.layers.BatchNormalization())\n",
    "model.add(Dropout(0.3))\n",
    "\n",
    "### 2nd Layer\n",
    "model.add(Dense(64,))\n",
    "model.add(Activation('relu'))\n",
    "# model.add(keras.layers.BatchNormalization())\n",
    "model.add(Dropout(0.3))\n",
    "\n",
    "## Output Layer\n",
    "model.add(Dense(1))\n",
    "\n",
    "# model = Sequential([Dense(50, input_shape=(28,28)),Activation('relu'), Dense(10),Activation('softmax'),])"
   ]
  },
  {
   "cell_type": "code",
   "execution_count": 13,
   "metadata": {},
   "outputs": [
    {
     "name": "stdout",
     "output_type": "stream",
     "text": [
      "Model: \"sequential_2\"\n",
      "_________________________________________________________________\n",
      "Layer (type)                 Output Shape              Param #   \n",
      "=================================================================\n",
      "dense_4 (Dense)              (None, 64)                896       \n",
      "_________________________________________________________________\n",
      "activation_4 (Activation)    (None, 64)                0         \n",
      "_________________________________________________________________\n",
      "dropout_3 (Dropout)          (None, 64)                0         \n",
      "_________________________________________________________________\n",
      "dense_5 (Dense)              (None, 64)                4160      \n",
      "_________________________________________________________________\n",
      "activation_5 (Activation)    (None, 64)                0         \n",
      "_________________________________________________________________\n",
      "dropout_4 (Dropout)          (None, 64)                0         \n",
      "_________________________________________________________________\n",
      "dense_6 (Dense)              (None, 1)                 65        \n",
      "=================================================================\n",
      "Total params: 5,121\n",
      "Trainable params: 5,121\n",
      "Non-trainable params: 0\n",
      "_________________________________________________________________\n"
     ]
    }
   ],
   "source": [
    "## Compiling model\n",
    "model.compile(optimizer='adam',\n",
    "              loss='mse',\n",
    "              metrics=['accuracy', 'mean_absolute_error'],)\n",
    "model.summary()"
   ]
  },
  {
   "cell_type": "code",
   "execution_count": 14,
   "metadata": {
    "collapsed": true
   },
   "outputs": [],
   "source": [
    "## Early stopping Initiation\n",
    "es = EarlyStopping(monitor='accuracy', mode='min', verbose=1, patience=20)"
   ]
  },
  {
   "cell_type": "code",
   "execution_count": 15,
   "metadata": {
    "scrolled": true
   },
   "outputs": [
    {
     "name": "stdout",
     "output_type": "stream",
     "text": [
      "Epoch 1/200\n",
      "404/404 [==============================] - 0s 612us/step - loss: 556.6939 - accuracy: 0.0000e+00 - mean_absolute_error: 21.7873\n",
      "Epoch 2/200\n",
      "404/404 [==============================] - 0s 272us/step - loss: 492.3539 - accuracy: 0.0000e+00 - mean_absolute_error: 20.2642\n",
      "Epoch 3/200\n",
      "404/404 [==============================] - 0s 183us/step - loss: 393.3120 - accuracy: 0.0025 - mean_absolute_error: 17.8257\n",
      "Epoch 4/200\n",
      "404/404 [==============================] - 0s 185us/step - loss: 262.5531 - accuracy: 0.0025 - mean_absolute_error: 14.0121\n",
      "Epoch 5/200\n",
      "404/404 [==============================] - 0s 188us/step - loss: 142.6661 - accuracy: 0.0025 - mean_absolute_error: 9.6920\n",
      "Epoch 6/200\n",
      "404/404 [==============================] - 0s 185us/step - loss: 81.4581 - accuracy: 0.0050 - mean_absolute_error: 6.8857\n",
      "Epoch 7/200\n",
      "404/404 [==============================] - 0s 183us/step - loss: 58.5273 - accuracy: 0.0074 - mean_absolute_error: 5.8265\n",
      "Epoch 8/200\n",
      "404/404 [==============================] - 0s 185us/step - loss: 49.4667 - accuracy: 0.0099 - mean_absolute_error: 5.2699\n",
      "Epoch 9/200\n",
      "404/404 [==============================] - 0s 168us/step - loss: 43.7347 - accuracy: 0.0099 - mean_absolute_error: 4.9669\n",
      "Epoch 10/200\n",
      "404/404 [==============================] - 0s 165us/step - loss: 42.3193 - accuracy: 0.0050 - mean_absolute_error: 4.8573\n",
      "Epoch 11/200\n",
      "404/404 [==============================] - 0s 200us/step - loss: 38.2686 - accuracy: 0.0074 - mean_absolute_error: 4.4692\n",
      "Epoch 12/200\n",
      "404/404 [==============================] - 0s 185us/step - loss: 37.9080 - accuracy: 0.0050 - mean_absolute_error: 4.4301\n",
      "Epoch 13/200\n",
      "404/404 [==============================] - 0s 183us/step - loss: 35.8021 - accuracy: 0.0173 - mean_absolute_error: 4.4285\n",
      "Epoch 14/200\n",
      "404/404 [==============================] - 0s 173us/step - loss: 32.9550 - accuracy: 0.0074 - mean_absolute_error: 4.1591\n",
      "Epoch 15/200\n",
      "404/404 [==============================] - 0s 185us/step - loss: 34.8599 - accuracy: 0.0025 - mean_absolute_error: 4.3904\n",
      "Epoch 16/200\n",
      "404/404 [==============================] - 0s 222us/step - loss: 37.7611 - accuracy: 0.0025 - mean_absolute_error: 4.5530\n",
      "Epoch 17/200\n",
      "404/404 [==============================] - 0s 237us/step - loss: 34.3525 - accuracy: 0.0050 - mean_absolute_error: 4.3960\n",
      "Epoch 18/200\n",
      "404/404 [==============================] - 0s 244us/step - loss: 29.9849 - accuracy: 0.0074 - mean_absolute_error: 4.0764\n",
      "Epoch 19/200\n",
      "404/404 [==============================] - 0s 225us/step - loss: 27.1604 - accuracy: 0.0149 - mean_absolute_error: 3.8993\n",
      "Epoch 20/200\n",
      "404/404 [==============================] - 0s 180us/step - loss: 25.4349 - accuracy: 0.0099 - mean_absolute_error: 3.8910\n",
      "Epoch 21/200\n",
      "404/404 [==============================] - 0s 183us/step - loss: 31.1307 - accuracy: 0.0124 - mean_absolute_error: 4.1810\n",
      "Epoch 00021: early stopping\n"
     ]
    }
   ],
   "source": [
    "## Training the model\n",
    "training_log = model.fit(x=x_train_scaled, y=y_train, batch_size=25, epochs=200,callbacks=[es])"
   ]
  },
  {
   "cell_type": "markdown",
   "metadata": {},
   "source": [
    "## Hyperparameter searhc to get the best params"
   ]
  },
  {
   "cell_type": "code",
   "execution_count": null,
   "metadata": {
    "collapsed": true
   },
   "outputs": [],
   "source": [
    "from tensorflow import keras\n",
    "from tensorflow.keras import layers"
   ]
  },
  {
   "cell_type": "code",
   "execution_count": null,
   "metadata": {
    "collapsed": true
   },
   "outputs": [],
   "source": [
    "def build_model(hp):\n",
    "    model = keras.Sequential()\n",
    "    model.add(layers.Dense(units=hp.Int('units', min_value=32, max_value=64, step=32),\n",
    "                           input_dim=13,\n",
    "                           activation='relu'))\n",
    "    for i in range(hp.Int('num_layers', 2, 5)):\n",
    "        model.add(layers.Dense(units=hp.Int('units_' + str(i), min_value=32, max_value=64, step=32),\n",
    "                           activation='relu'))\n",
    "    model.add(layers.Dense(1))\n",
    "    model.compile(optimizer=keras.optimizers.Adam(\n",
    "        hp.Choice('learning_rate',values=[1e-2, 1e-3, 1e-4])),\n",
    "        loss='mse',\n",
    "        metrics=['accuracy'])\n",
    "    return model"
   ]
  },
  {
   "cell_type": "code",
   "execution_count": null,
   "metadata": {
    "collapsed": true
   },
   "outputs": [],
   "source": [
    "tuner = RandomSearch(\n",
    "    build_model,\n",
    "    objective='accuracy',\n",
    "    max_trials=5,\n",
    "    executions_per_trial=3,\n",
    "    directory=r'D:\\Columbia_University\\MS AI\\Lecture 2\\Tuning',)"
   ]
  },
  {
   "cell_type": "code",
   "execution_count": null,
   "metadata": {
    "collapsed": true,
    "scrolled": true
   },
   "outputs": [],
   "source": [
    "tuner.search_space_summary()"
   ]
  },
  {
   "cell_type": "code",
   "execution_count": null,
   "metadata": {
    "collapsed": true,
    "scrolled": true
   },
   "outputs": [],
   "source": [
    "tuner.search(x_train_scaled, y_train,\n",
    "             epochs=5,\n",
    "             validation_data=(x_test_scaled, y_test))"
   ]
  },
  {
   "cell_type": "code",
   "execution_count": null,
   "metadata": {
    "collapsed": true
   },
   "outputs": [],
   "source": [
    "tuner.results_summary()"
   ]
  }
 ],
 "metadata": {
  "kernelspec": {
   "display_name": "Python 3",
   "language": "python",
   "name": "python3"
  },
  "language_info": {
   "codemirror_mode": {
    "name": "ipython",
    "version": 3
   },
   "file_extension": ".py",
   "mimetype": "text/x-python",
   "name": "python",
   "nbconvert_exporter": "python",
   "pygments_lexer": "ipython3",
   "version": "3.6.4"
  }
 },
 "nbformat": 4,
 "nbformat_minor": 2
}
